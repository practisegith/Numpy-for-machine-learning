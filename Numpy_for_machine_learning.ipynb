{
  "nbformat": 4,
  "nbformat_minor": 0,
  "metadata": {
    "colab": {
      "provenance": []
    },
    "kernelspec": {
      "name": "python3",
      "display_name": "Python 3"
    },
    "language_info": {
      "name": "python"
    }
  },
  "cells": [
    {
      "cell_type": "code",
      "execution_count": 2,
      "metadata": {
        "id": "j0DzvgB5jntC"
      },
      "outputs": [],
      "source": [
        "import numpy as np"
      ]
    },
    {
      "cell_type": "markdown",
      "source": [
        " List vs Numpy"
      ],
      "metadata": {
        "id": "2-DJTVMcjteN"
      }
    },
    {
      "cell_type": "code",
      "source": [
        "from time import process_time\n",
        "python_list = [i for i in range(1000)]\n",
        "start_time = process_time()\n",
        "python_list = [i+5 for i in python_list]\n",
        "end_time = process_time()\n",
        "print(end_time - start_time)"
      ],
      "metadata": {
        "colab": {
          "base_uri": "https://localhost:8080/"
        },
        "id": "Wi015lY_j6fH",
        "outputId": "ba2a6e2c-9647-462e-8e95-f7d758a16d64"
      },
      "execution_count": 20,
      "outputs": [
        {
          "output_type": "stream",
          "name": "stdout",
          "text": [
            "0.00022952499999995268\n"
          ]
        }
      ]
    },
    {
      "cell_type": "code",
      "source": [
        "np_array = np.array([i for i in range(1000)])\n",
        "start_time = process_time()\n",
        "np_array += 5\n",
        "end_time = process_time()\n",
        "print(end_time - start_time)"
      ],
      "metadata": {
        "colab": {
          "base_uri": "https://localhost:8080/"
        },
        "id": "ZEkzYn9XkP4S",
        "outputId": "db5fbf66-4885-4ef2-a3ae-af20bf6eacc5"
      },
      "execution_count": 21,
      "outputs": [
        {
          "output_type": "stream",
          "name": "stdout",
          "text": [
            "0.00014060400000026618\n"
          ]
        }
      ]
    },
    {
      "cell_type": "markdown",
      "source": [
        "Numpy array"
      ],
      "metadata": {
        "id": "Kqf-ZKd2HP90"
      }
    },
    {
      "cell_type": "code",
      "source": [
        "# List\n",
        "list1 = [1,2,3,4,5]\n",
        "print(list1)\n",
        "type(list1)"
      ],
      "metadata": {
        "colab": {
          "base_uri": "https://localhost:8080/"
        },
        "id": "Mw_1IYB6k3D5",
        "outputId": "1e02a5a4-19da-4d1c-d655-bf66d47500bb"
      },
      "execution_count": 2,
      "outputs": [
        {
          "output_type": "stream",
          "name": "stdout",
          "text": [
            "[1, 2, 3, 4, 5]\n"
          ]
        },
        {
          "output_type": "execute_result",
          "data": {
            "text/plain": [
              "list"
            ]
          },
          "metadata": {},
          "execution_count": 2
        }
      ]
    },
    {
      "cell_type": "code",
      "source": [
        "\n",
        "import numpy as np\n",
        "np_array = np.array([1,2,3,4,5])\n",
        "print(np_array)\n",
        "type(np_array)\n",
        "\n"
      ],
      "metadata": {
        "colab": {
          "base_uri": "https://localhost:8080/"
        },
        "id": "pYKum1hvlpRY",
        "outputId": "f979a6a2-b4da-4355-95fc-cfad5b7f6d0f"
      },
      "execution_count": 4,
      "outputs": [
        {
          "output_type": "stream",
          "name": "stdout",
          "text": [
            "[1 2 3 4 5]\n"
          ]
        },
        {
          "output_type": "execute_result",
          "data": {
            "text/plain": [
              "numpy.ndarray"
            ]
          },
          "metadata": {},
          "execution_count": 4
        }
      ]
    },
    {
      "cell_type": "markdown",
      "source": [
        " Creating a one dimenstional array"
      ],
      "metadata": {
        "id": "9x8jb2vzMkXN"
      }
    },
    {
      "cell_type": "code",
      "source": [
        "a = np.array([1,2,3,4])\n",
        "print(a)\n",
        "a.shape\n",
        "b = np.array([(1,2,3,4),(5,6,7,8)])\n",
        "print(b)\n",
        "b.shape"
      ],
      "metadata": {
        "colab": {
          "base_uri": "https://localhost:8080/"
        },
        "id": "FD8nqyPwlzZk",
        "outputId": "67df00d1-9f69-43b2-8e72-f93270bb59ab"
      },
      "execution_count": 8,
      "outputs": [
        {
          "output_type": "stream",
          "name": "stdout",
          "text": [
            "[1 2 3 4]\n",
            "[[1 2 3 4]\n",
            " [5 6 7 8]]\n"
          ]
        },
        {
          "output_type": "execute_result",
          "data": {
            "text/plain": [
              "(2, 4)"
            ]
          },
          "metadata": {},
          "execution_count": 8
        }
      ]
    },
    {
      "cell_type": "code",
      "source": [
        "c = np.array([(1,2,3,4),(5,6,7,8)],dtype=float)\n",
        "c"
      ],
      "metadata": {
        "colab": {
          "base_uri": "https://localhost:8080/"
        },
        "id": "5ZG_iFGSmAvC",
        "outputId": "f77e4703-48ed-4b1e-ac2a-ba4b1f2d1d20"
      },
      "execution_count": 11,
      "outputs": [
        {
          "output_type": "execute_result",
          "data": {
            "text/plain": [
              "array([[1., 2., 3., 4.],\n",
              "       [5., 6., 7., 8.]])"
            ]
          },
          "metadata": {},
          "execution_count": 11
        }
      ]
    },
    {
      "cell_type": "markdown",
      "source": [
        "Intial placeholders in numpy array"
      ],
      "metadata": {
        "id": "yCnlvzLwOJVV"
      }
    },
    {
      "cell_type": "markdown",
      "source": [
        "Creating a numpy array of zeros"
      ],
      "metadata": {
        "id": "8VDgqLYWO7Jv"
      }
    },
    {
      "cell_type": "code",
      "source": [
        "x = np.zeros((4,5))\n",
        "print(x)"
      ],
      "metadata": {
        "colab": {
          "base_uri": "https://localhost:8080/"
        },
        "id": "prfCYNnfO_yk",
        "outputId": "3a8f95d7-abbc-4414-dd2f-948dfe827306"
      },
      "execution_count": 12,
      "outputs": [
        {
          "output_type": "stream",
          "name": "stdout",
          "text": [
            "[[0. 0. 0. 0. 0.]\n",
            " [0. 0. 0. 0. 0.]\n",
            " [0. 0. 0. 0. 0.]\n",
            " [0. 0. 0. 0. 0.]]\n"
          ]
        }
      ]
    },
    {
      "cell_type": "markdown",
      "source": [
        "Create numpy array of ones"
      ],
      "metadata": {
        "id": "3WOJmWmFPJSN"
      }
    },
    {
      "cell_type": "code",
      "source": [
        "y = np.ones((3,3))\n",
        "print(y)"
      ],
      "metadata": {
        "colab": {
          "base_uri": "https://localhost:8080/"
        },
        "id": "2tReiZ_kPQQY",
        "outputId": "82376304-5c99-46e6-d403-3b7f7c0f2a65"
      },
      "execution_count": 13,
      "outputs": [
        {
          "output_type": "stream",
          "name": "stdout",
          "text": [
            "[[1. 1. 1.]\n",
            " [1. 1. 1.]\n",
            " [1. 1. 1.]]\n"
          ]
        }
      ]
    },
    {
      "cell_type": "markdown",
      "source": [
        "array of particular value"
      ],
      "metadata": {
        "id": "qoBXCTQNPX0x"
      }
    },
    {
      "cell_type": "code",
      "source": [
        "z = np.full((5,4),5)\n",
        "print(z)"
      ],
      "metadata": {
        "colab": {
          "base_uri": "https://localhost:8080/"
        },
        "id": "iR7FiJkDPeL_",
        "outputId": "58502ebd-1939-48b9-9bae-56663bf223a7"
      },
      "execution_count": 15,
      "outputs": [
        {
          "output_type": "stream",
          "name": "stdout",
          "text": [
            "[[5 5 5 5]\n",
            " [5 5 5 5]\n",
            " [5 5 5 5]\n",
            " [5 5 5 5]\n",
            " [5 5 5 5]]\n"
          ]
        }
      ]
    },
    {
      "cell_type": "markdown",
      "source": [
        "Create an identity matrix(same number of rows and columns)"
      ],
      "metadata": {
        "id": "RykUDxEXPsos"
      }
    },
    {
      "cell_type": "code",
      "source": [
        "a = np.eye(4)\n",
        "print(a)"
      ],
      "metadata": {
        "colab": {
          "base_uri": "https://localhost:8080/"
        },
        "id": "eqYTIpJHP5lR",
        "outputId": "824599c7-9a92-43b6-b222-796ca6be3f8e"
      },
      "execution_count": 16,
      "outputs": [
        {
          "output_type": "stream",
          "name": "stdout",
          "text": [
            "[[1. 0. 0. 0.]\n",
            " [0. 1. 0. 0.]\n",
            " [0. 0. 1. 0.]\n",
            " [0. 0. 0. 1.]]\n"
          ]
        }
      ]
    },
    {
      "cell_type": "markdown",
      "source": [
        "Create a numpy array with random values"
      ],
      "metadata": {
        "id": "mts9yAm_QCnX"
      }
    },
    {
      "cell_type": "code",
      "source": [
        "b = np.random.random((3,4))\n",
        "print(b)"
      ],
      "metadata": {
        "colab": {
          "base_uri": "https://localhost:8080/"
        },
        "id": "CD0vznpZQLUT",
        "outputId": "ea9d8dd3-c117-404c-f82c-a2b358cef7f7"
      },
      "execution_count": 18,
      "outputs": [
        {
          "output_type": "stream",
          "name": "stdout",
          "text": [
            "[[0.84969213 0.08615679 0.98153179 0.76194933]\n",
            " [0.08432883 0.98770456 0.66160215 0.12893153]\n",
            " [0.03240163 0.80022213 0.66891502 0.25906634]]\n"
          ]
        }
      ]
    },
    {
      "cell_type": "markdown",
      "source": [
        "Random Integer values array with specific range"
      ],
      "metadata": {
        "id": "fdyMGKirQfjr"
      }
    },
    {
      "cell_type": "code",
      "source": [
        "c = np.random.randint(10,100,(3,5))\n",
        "print(c)"
      ],
      "metadata": {
        "colab": {
          "base_uri": "https://localhost:8080/"
        },
        "id": "fikOl1LAQoWi",
        "outputId": "c246cbdc-d068-4a84-ceb5-4cf4316f64ff"
      },
      "execution_count": 19,
      "outputs": [
        {
          "output_type": "stream",
          "name": "stdout",
          "text": [
            "[[48 38 50 55 34]\n",
            " [92 77 79 70 16]\n",
            " [99 78 39 74 76]]\n"
          ]
        }
      ]
    },
    {
      "cell_type": "markdown",
      "source": [
        "array of evenly spaced values(specifying the no. of values required)"
      ],
      "metadata": {
        "id": "WbBe0ImZRQ8u"
      }
    },
    {
      "cell_type": "code",
      "source": [
        "d = np.linspace(10,30,5)\n",
        "print(d)"
      ],
      "metadata": {
        "colab": {
          "base_uri": "https://localhost:8080/"
        },
        "id": "yQZTz79CRcme",
        "outputId": "6f7cc7e8-e74b-40b4-9a3c-f2d6da8e33d2"
      },
      "execution_count": 20,
      "outputs": [
        {
          "output_type": "stream",
          "name": "stdout",
          "text": [
            "[10. 15. 20. 25. 30.]\n"
          ]
        }
      ]
    },
    {
      "cell_type": "markdown",
      "source": [
        "array of evenly spaced values(specifying the step value)"
      ],
      "metadata": {
        "id": "ZTgEbYvyRnyc"
      }
    },
    {
      "cell_type": "code",
      "source": [
        "e = np.arange(10,30,5)\n",
        "print(e)"
      ],
      "metadata": {
        "colab": {
          "base_uri": "https://localhost:8080/"
        },
        "id": "yqbYgFziR2uY",
        "outputId": "73b93a91-4124-49cf-b133-3edd08881339"
      },
      "execution_count": 21,
      "outputs": [
        {
          "output_type": "stream",
          "name": "stdout",
          "text": [
            "[10 15 20 25]\n"
          ]
        }
      ]
    },
    {
      "cell_type": "markdown",
      "source": [
        "Converting List to nparray"
      ],
      "metadata": {
        "id": "JSb0_2JwSD6e"
      }
    },
    {
      "cell_type": "code",
      "source": [
        "list2 = [10,20,20,20,50]\n",
        "np_array = np.asarray(list2)\n",
        "print(np_array)\n",
        "type(np_array)"
      ],
      "metadata": {
        "colab": {
          "base_uri": "https://localhost:8080/"
        },
        "id": "8KQ77DaWSQZz",
        "outputId": "05a01463-0dca-40fa-b4f0-9127e8c39eea"
      },
      "execution_count": 23,
      "outputs": [
        {
          "output_type": "stream",
          "name": "stdout",
          "text": [
            "[10 20 20 20 50]\n"
          ]
        },
        {
          "output_type": "execute_result",
          "data": {
            "text/plain": [
              "numpy.ndarray"
            ]
          },
          "metadata": {},
          "execution_count": 23
        }
      ]
    },
    {
      "cell_type": "markdown",
      "source": [
        "Analyzing Numpy array"
      ],
      "metadata": {
        "id": "_nXyMTcrSpxD"
      }
    },
    {
      "cell_type": "code",
      "source": [
        "c = np.random.randint(10,90,(5,5))\n",
        "print(c)"
      ],
      "metadata": {
        "colab": {
          "base_uri": "https://localhost:8080/"
        },
        "id": "BH_vG2hzSt5S",
        "outputId": "2dbece71-c764-4322-eaca-778e826c8789"
      },
      "execution_count": 24,
      "outputs": [
        {
          "output_type": "stream",
          "name": "stdout",
          "text": [
            "[[35 71 56 62 42]\n",
            " [13 51 56 16 71]\n",
            " [21 49 22 31 73]\n",
            " [22 12 58 75 65]\n",
            " [61 59 27 42 89]]\n"
          ]
        }
      ]
    },
    {
      "cell_type": "markdown",
      "source": [
        "Array Dimension"
      ],
      "metadata": {
        "id": "QpmIiCCsS7wa"
      }
    },
    {
      "cell_type": "code",
      "source": [
        "print(c.shape)\n",
        "print(c.ndim)"
      ],
      "metadata": {
        "colab": {
          "base_uri": "https://localhost:8080/"
        },
        "id": "QwNTLSovTCSd",
        "outputId": "fb8186bd-4a88-4e84-a2c2-ec26aebce53c"
      },
      "execution_count": 25,
      "outputs": [
        {
          "output_type": "stream",
          "name": "stdout",
          "text": [
            "(5, 5)\n",
            "2\n"
          ]
        }
      ]
    },
    {
      "cell_type": "markdown",
      "source": [
        "Number of elements in an array"
      ],
      "metadata": {
        "id": "psf8lwLCTeBm"
      }
    },
    {
      "cell_type": "code",
      "source": [
        "print(c.size)"
      ],
      "metadata": {
        "colab": {
          "base_uri": "https://localhost:8080/"
        },
        "id": "bla2qVufTh37",
        "outputId": "052e65db-2ffc-46ca-9066-3c3b238b3642"
      },
      "execution_count": 26,
      "outputs": [
        {
          "output_type": "stream",
          "name": "stdout",
          "text": [
            "25\n"
          ]
        }
      ]
    },
    {
      "cell_type": "markdown",
      "source": [
        "Checking data type of the values in array"
      ],
      "metadata": {
        "id": "IBXxzVTDTnyQ"
      }
    },
    {
      "cell_type": "code",
      "source": [
        "print(c.dtype)"
      ],
      "metadata": {
        "colab": {
          "base_uri": "https://localhost:8080/"
        },
        "id": "774c-2xITtld",
        "outputId": "7e5b6706-abcf-49ff-975a-306a45566666"
      },
      "execution_count": 29,
      "outputs": [
        {
          "output_type": "stream",
          "name": "stdout",
          "text": [
            "int64\n"
          ]
        }
      ]
    },
    {
      "cell_type": "markdown",
      "source": [
        "Mathematical Operations on numpy array\n",
        "\n"
      ],
      "metadata": {
        "id": "OqOHhe7hV4uo"
      }
    },
    {
      "cell_type": "markdown",
      "source": [
        "Concatenating or joining two lists"
      ],
      "metadata": {
        "id": "fIA9xEznWeVi"
      }
    },
    {
      "cell_type": "code",
      "source": [
        "list1 = [1,2,3,4,5]\n",
        "list2 = [6,7,8,9,10]\n",
        "print(list1 + list2)"
      ],
      "metadata": {
        "colab": {
          "base_uri": "https://localhost:8080/"
        },
        "id": "1tvMXf-AWBSl",
        "outputId": "a918eba1-2f39-4bad-a6b0-bfe8ed00ba3d"
      },
      "execution_count": 30,
      "outputs": [
        {
          "output_type": "stream",
          "name": "stdout",
          "text": [
            "[1, 2, 3, 4, 5, 6, 7, 8, 9, 10]\n"
          ]
        }
      ]
    },
    {
      "cell_type": "markdown",
      "source": [
        "For Numpy it is diffrent lets see"
      ],
      "metadata": {
        "id": "hEAD74agWouy"
      }
    },
    {
      "cell_type": "code",
      "source": [
        "a = np.random.randint(0,10,(3,3))\n",
        "b = np.random.randint(10,20,(3,3))\n",
        "print(a)\n",
        "print(b)\n",
        "print(a+b)\n",
        "print(a-b)\n",
        "print(a*b)\n",
        "print(a/b)"
      ],
      "metadata": {
        "colab": {
          "base_uri": "https://localhost:8080/"
        },
        "id": "Om9VV2kmW-RV",
        "outputId": "87b3cafc-647e-4154-8c2a-fbad4c050601"
      },
      "execution_count": 31,
      "outputs": [
        {
          "output_type": "stream",
          "name": "stdout",
          "text": [
            "[[7 8 9]\n",
            " [9 5 7]\n",
            " [1 4 0]]\n",
            "[[17 18 19]\n",
            " [16 11 14]\n",
            " [13 15 19]]\n",
            "[[24 26 28]\n",
            " [25 16 21]\n",
            " [14 19 19]]\n",
            "[[-10 -10 -10]\n",
            " [ -7  -6  -7]\n",
            " [-12 -11 -19]]\n",
            "[[119 144 171]\n",
            " [144  55  98]\n",
            " [ 13  60   0]]\n",
            "[[0.41176471 0.44444444 0.47368421]\n",
            " [0.5625     0.45454545 0.5       ]\n",
            " [0.07692308 0.26666667 0.        ]]\n"
          ]
        }
      ]
    },
    {
      "cell_type": "code",
      "source": [
        "print(np.add(a,b))\n",
        "print(np.subtract(a,b))\n",
        "print(np.multiply(a,b))\n",
        "print(np.divide(a,b))\n"
      ],
      "metadata": {
        "colab": {
          "base_uri": "https://localhost:8080/"
        },
        "id": "FkNOEFsxTnZv",
        "outputId": "d2fbf545-dd50-4bf4-f469-72408676e6be"
      },
      "execution_count": 33,
      "outputs": [
        {
          "output_type": "stream",
          "name": "stdout",
          "text": [
            "[[24 26 28]\n",
            " [25 16 21]\n",
            " [14 19 19]]\n",
            "[[-10 -10 -10]\n",
            " [ -7  -6  -7]\n",
            " [-12 -11 -19]]\n",
            "[[119 144 171]\n",
            " [144  55  98]\n",
            " [ 13  60   0]]\n",
            "[[0.41176471 0.44444444 0.47368421]\n",
            " [0.5625     0.45454545 0.5       ]\n",
            " [0.07692308 0.26666667 0.        ]]\n"
          ]
        }
      ]
    },
    {
      "cell_type": "markdown",
      "source": [
        "Array Manipulation\n",
        "\n",
        "Array manipulation refers to the process of changing the shape, structure, content, or arrangement of arrays in programming"
      ],
      "metadata": {
        "id": "6qQGJUm1YBqv"
      }
    },
    {
      "cell_type": "code",
      "source": [
        "array = np.random.randint(0,10,(2,3))\n",
        "print(array)\n",
        "print(array.shape)"
      ],
      "metadata": {
        "colab": {
          "base_uri": "https://localhost:8080/"
        },
        "id": "dSH0xUVMYE0f",
        "outputId": "87c0dcc0-e61a-46fb-f827-97651d417b8a"
      },
      "execution_count": 34,
      "outputs": [
        {
          "output_type": "stream",
          "name": "stdout",
          "text": [
            "[[3 5 6]\n",
            " [7 3 3]]\n",
            "(2, 3)\n"
          ]
        }
      ]
    },
    {
      "cell_type": "markdown",
      "source": [
        "Transpose"
      ],
      "metadata": {
        "id": "p2ffVe2xYpU-"
      }
    },
    {
      "cell_type": "code",
      "source": [
        "trans = np.transpose(array)\n",
        "print(trans)\n",
        "print(trans.shape)"
      ],
      "metadata": {
        "colab": {
          "base_uri": "https://localhost:8080/"
        },
        "id": "gUXCNJ13Ytxm",
        "outputId": "cc31f4cf-4bb5-4ad8-9b4b-8990653bdf34"
      },
      "execution_count": 35,
      "outputs": [
        {
          "output_type": "stream",
          "name": "stdout",
          "text": [
            "[[3 7]\n",
            " [5 3]\n",
            " [6 3]]\n",
            "(3, 2)\n"
          ]
        }
      ]
    },
    {
      "cell_type": "code",
      "source": [
        "array = np.random.randint(0,10,(2,3))\n",
        "print(array)\n",
        "print(array.shape)"
      ],
      "metadata": {
        "colab": {
          "base_uri": "https://localhost:8080/"
        },
        "id": "wHyXWYgtSDG9",
        "outputId": "db41b80f-c3e7-462f-a7c7-e7c151b2da0e"
      },
      "execution_count": 37,
      "outputs": [
        {
          "output_type": "stream",
          "name": "stdout",
          "text": [
            "[[4 8 1]\n",
            " [3 7 6]]\n",
            "(2, 3)\n"
          ]
        }
      ]
    },
    {
      "cell_type": "markdown",
      "source": [
        "Another method for transposing"
      ],
      "metadata": {
        "id": "6I3AKGmTZJit"
      }
    },
    {
      "cell_type": "code",
      "source": [
        "trans2 = array.T\n",
        "print(trans2)\n",
        "print(trans2.shape)\n"
      ],
      "metadata": {
        "colab": {
          "base_uri": "https://localhost:8080/"
        },
        "id": "qYUI6FfdZNxT",
        "outputId": "f0807d3f-cebf-46e8-b029-f08244003b97"
      },
      "execution_count": 38,
      "outputs": [
        {
          "output_type": "stream",
          "name": "stdout",
          "text": [
            "[[4 3]\n",
            " [8 7]\n",
            " [1 6]]\n",
            "(3, 2)\n"
          ]
        }
      ]
    },
    {
      "cell_type": "markdown",
      "source": [
        "Reshaping array"
      ],
      "metadata": {
        "id": "Mh18kJR_Zbao"
      }
    },
    {
      "cell_type": "code",
      "source": [
        "a = np.random.randint(0,10,(2,3))\n",
        "print(a)\n",
        "print(a.shape)\n",
        "b = a.reshape(3,2)\n",
        "print(b)\n",
        "print(b.shape)"
      ],
      "metadata": {
        "colab": {
          "base_uri": "https://localhost:8080/"
        },
        "id": "jYNPLoy5Ze3C",
        "outputId": "b19a30e2-1de6-4f0b-d102-197eaa444539"
      },
      "execution_count": 41,
      "outputs": [
        {
          "output_type": "stream",
          "name": "stdout",
          "text": [
            "[[6 5 4]\n",
            " [5 0 1]]\n",
            "(2, 3)\n",
            "[[6 5]\n",
            " [4 5]\n",
            " [0 1]]\n",
            "(3, 2)\n"
          ]
        }
      ]
    }
  ]
}